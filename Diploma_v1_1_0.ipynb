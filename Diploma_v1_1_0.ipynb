{
  "nbformat": 4,
  "nbformat_minor": 0,
  "metadata": {
    "colab": {
      "name": "Diploma_v1.1.0.ipynb",
      "provenance": [],
      "collapsed_sections": [],
      "mount_file_id": "116iwtMmr0F2_T_wPe1uUxFvk-Q7Lr2pH",
      "authorship_tag": "ABX9TyMM4NP/yYD3cuzprBPfiBqC",
      "include_colab_link": true
    },
    "kernelspec": {
      "name": "python3",
      "display_name": "Python 3"
    }
  },
  "cells": [
    {
      "cell_type": "markdown",
      "metadata": {
        "id": "view-in-github",
        "colab_type": "text"
      },
      "source": [
        "<a href=\"https://colab.research.google.com/github/malynkovsky/dimploma_bachelor/blob/master/Diploma_v1_1_0.ipynb\" target=\"_parent\"><img src=\"https://colab.research.google.com/assets/colab-badge.svg\" alt=\"Open In Colab\"/></a>"
      ]
    },
    {
      "cell_type": "code",
      "metadata": {
        "id": "5xeKEKaKE-fD",
        "colab_type": "code",
        "colab": {}
      },
      "source": [
        "import numpy as np\n",
        "import pandas as pd\n",
        "import matplotlib.pyplot as plt\n",
        "import networkx as nx\n",
        "import xlrd\n",
        "from queue import PriorityQueue\n",
        "from math import inf\n",
        "import copy\n",
        "import random\n",
        "import timeit\n",
        "import math"
      ],
      "execution_count": null,
      "outputs": []
    },
    {
      "cell_type": "code",
      "metadata": {
        "id": "9PrRSH-9FEjc",
        "colab_type": "code",
        "colab": {
          "base_uri": "https://localhost:8080/",
          "height": 51
        },
        "outputId": "e8c78792-a05a-43ef-fb12-368abcbc26df"
      },
      "source": [
        "# Открываем файл с таблицей голосований\n",
        "\n",
        "file_loc=\"/content/drive/My Drive/Eng/votes_of_9th_parlament(01-11-2019_31-12-2019).xlsx\"\n",
        "#file_loc=\"/content/votes_.xlsx\"\n",
        "wkb=xlrd.open_workbook(file_loc)\n",
        "sheet=wkb.sheet_by_index(0)\n",
        "print((sheet.nrows-1,sheet.ncols-1))\n",
        "_matrix=np.zeros((sheet.nrows-1,sheet.ncols-1))\n",
        "for col in range(1,sheet.ncols):\n",
        "    for row in range(1,sheet.nrows):\n",
        "      _matrix[row-1,col-1] = sheet.cell_value(row,col)\n",
        "print(_matrix.shape)"
      ],
      "execution_count": null,
      "outputs": [
        {
          "output_type": "stream",
          "text": [
            "(773, 171)\n",
            "(773, 171)\n"
          ],
          "name": "stdout"
        }
      ]
    },
    {
      "cell_type": "code",
      "metadata": {
        "id": "dppc7S3oFE_g",
        "colab_type": "code",
        "colab": {
          "base_uri": "https://localhost:8080/",
          "height": 51
        },
        "outputId": "a24f16bb-0710-42e9-e224-f86533a37832"
      },
      "source": [
        "# Находим матрицу несхожести депутатов через евклидово расстояние между векторами (строками исхондой таблицы)\n",
        "# Для каждого i - депутата находим 4 депутата ближайших по взглядам (наименьшие значения в матрице несхожести в строке i - депутата)\n",
        "# Строим матрицу смежности соединяя депутатов с 4-мя ближайшими. \n",
        "\n",
        "test_vote_matrix = _matrix\n",
        "test_dist_matrix = np.zeros((_matrix.shape[0],_matrix.shape[0]))\n",
        "for i in range(test_dist_matrix.shape[0]):\n",
        "  for j in range(test_dist_matrix.shape[0]):\n",
        "    test_dist_matrix[i,j]=np.linalg.norm(test_vote_matrix[i] - test_vote_matrix[j])\n",
        "    if (i==j):\n",
        "      test_dist_matrix[i,j] = 2*_matrix.shape[0]\n",
        "\n",
        "test_adj_matrix = np.zeros(test_dist_matrix.shape)\n",
        "for i in range(_matrix.shape[0]):\n",
        "  rrrrrr = test_dist_matrix[i]\n",
        "  polk= pd.Series(-rrrrrr)\n",
        "  cdel = polk.nlargest(4, keep='all')\n",
        "  test_adj_matrix[i,cdel.index]=1\n",
        "for i in range(test_adj_matrix.shape[0]):\n",
        "  for j in range(i,test_adj_matrix.shape[1]):\n",
        "    if (test_adj_matrix[i][j] == 1) or (test_adj_matrix[j][i] == 1):\n",
        "      test_adj_matrix[i][j] = 1\n",
        "      test_adj_matrix[j][i] = 1\n",
        "    if (i == j):\n",
        "      test_adj_matrix[i][i] = 0\n",
        "rand_start = np.zeros(test_adj_matrix.shape)\n",
        "for i in range(test_adj_matrix.shape[0]):\n",
        "  for j in range(test_adj_matrix.shape[1]):\n",
        "    rand_start[i,j] = np.random.randint(1,6)"
      ],
      "execution_count": null,
      "outputs": [
        {
          "output_type": "stream",
          "text": [
            "(773, 171)\n",
            "(773, 773)\n"
          ],
          "name": "stdout"
        }
      ]
    },
    {
      "cell_type": "code",
      "metadata": {
        "id": "aU7vkKW-FFIY",
        "colab_type": "code",
        "colab": {}
      },
      "source": [
        "#\n",
        "\n",
        "def show_graph_with_labels(adjacency_matrix):\n",
        "    rows, cols = np.where(adjacency_matrix == 1)\n",
        "    weights = rand_start[np.where(adjacency_matrix == 1)]\n",
        "    edges = zip(rows.tolist(), cols.tolist(),weights.tolist() )\n",
        "    gr=nx.Graph()\n",
        "    gr.add_weighted_edges_from(edges)\n",
        "    graph_test = gr\n",
        "    return gr"
      ],
      "execution_count": null,
      "outputs": []
    },
    {
      "cell_type": "code",
      "metadata": {
        "id": "jRXqvI2-rcUd",
        "colab_type": "code",
        "colab": {}
      },
      "source": [
        "\n",
        "\n",
        "graph_test = show_graph_with_labels(test_adj_matrix)\n",
        "graphs_list_test = list(nx.algorithms.connected_components(graph_test))\n",
        "conn_idx=[]\n",
        "for i in range(len(graphs_list_test)):\n",
        "  for j in range(i,len(graphs_list_test)):\n",
        "    min_dist=2*_matrix.shape[0]\n",
        "    for m in graphs_list_test[i]:\n",
        "      for c in graphs_list_test[j]:\n",
        "        if (test_dist_matrix[m,c] < min_dist):\n",
        "          min_dist= test_dist_matrix[m,c]\n",
        "    \n",
        "    for m in graphs_list_test[i]:\n",
        "      for c in graphs_list_test[j]:\n",
        "        if (test_dist_matrix[m,c] == min_dist):\n",
        "          conn_idx.append((m,c))\n",
        "if (nx.algorithms.number_connected_components(graph_test) != 1):\n",
        "    for t,j in conn_idx:\n",
        "          graph_test.add_edge(t, j, weight=1) "
      ],
      "execution_count": null,
      "outputs": []
    },
    {
      "cell_type": "code",
      "metadata": {
        "id": "99vxisv1KNCs",
        "colab_type": "code",
        "colab": {}
      },
      "source": [
        "def draw_graph_with_labels(gr):\n",
        "    plt.figure(figsize=(20,20))\n",
        "    pos = nx.layout.fruchterman_reingold_layout(gr)\n",
        "    nx.draw_networkx_edges(gr, pos, edge_color='green', width = 0.5 )\n",
        "    nx.draw_networkx_edge_labels(gr,pos,edge_labels=nx.get_edge_attributes(gr,'weight'),bbox=dict(alpha=0)) #\n",
        "    nx.draw_networkx_nodes(gr, pos, node_color='#65ebdd', node_size=500) \n",
        "    nx.draw_networkx_labels(gr, pos, font_size=16) # labels = labels, font_size = 16, font_color = 'black')\n",
        "    plt.show()\n",
        "    print(gr.nodes)\n",
        "    return gr\n"
      ],
      "execution_count": null,
      "outputs": []
    },
    {
      "cell_type": "code",
      "metadata": {
        "id": "ESPSyCngl4PZ",
        "colab_type": "code",
        "colab": {}
      },
      "source": [
        "def draw_small_graph(gr):\n",
        "    plt.figure(figsize=(10,10))\n",
        "    pos = nx.layout.fruchterman_reingold_layout(gr)\n",
        "    nx.draw_networkx_edges(gr, pos, edge_color='green', width = 0.5)\n",
        "    nx.draw_networkx_nodes(gr, pos, node_color='red', node_size=4) \n",
        "    plt.show()\n",
        "    #print(gr.nodes)\n",
        "    return gr"
      ],
      "execution_count": null,
      "outputs": []
    },
    {
      "cell_type": "code",
      "metadata": {
        "id": "1djQz6UM89Gf",
        "colab_type": "code",
        "colab": {}
      },
      "source": [
        "def Sorting(lst): \n",
        "    lst2 = sorted(lst, key=len,reverse=True)\n",
        "    return lst2"
      ],
      "execution_count": null,
      "outputs": []
    },
    {
      "cell_type": "code",
      "metadata": {
        "id": "suVy0atvxx1e",
        "colab_type": "code",
        "colab": {}
      },
      "source": [
        "def dijkstra_TEST5(graph: 'networkx.classes.graph.Graph', start: str, end: str) -> 'List':\n",
        "    def backtrace(prev, start, end):\n",
        "        node = end\n",
        "        path = []\n",
        "        while node != start:\n",
        "            path.append(node)\n",
        "            node = prev[node]\n",
        "        path.append(node) \n",
        "        path.reverse()\n",
        "        return path\n",
        "\n",
        "    def cost(u, v):\n",
        "        return graph.get_edge_data(u,v).get('weight')\n",
        "\n",
        "    prev = {} \n",
        "    dist = {v: inf for v in list(nx.nodes(graph))} \n",
        "    visited = set() \n",
        "    pq = PriorityQueue()  \n",
        "    dist[start] = 0\n",
        "    pq.put((dist[start], start))    \n",
        "    while 0 != pq.qsize():\n",
        "        curr_cost, curr = pq.get()\n",
        "        if curr == end:\n",
        "            break\n",
        "        if curr in visited:\n",
        "          continue\n",
        "        visited.add(curr)\n",
        "        for neighbor in dict(graph.adjacency()).get(curr):\n",
        "          if neighbor in visited:\n",
        "            continue\n",
        "          path = max(dist[curr],cost(curr,neighbor))\n",
        "          if path < dist[neighbor]:\n",
        "            dist[neighbor] = path\n",
        "            prev[neighbor] = curr\n",
        "            pq.put((dist[neighbor],neighbor))\n",
        "               \n",
        "    return backtrace(prev, start, end), dist[end]\n",
        " "
      ],
      "execution_count": null,
      "outputs": []
    },
    {
      "cell_type": "code",
      "metadata": {
        "id": "3J9qcRTM5iJd",
        "colab_type": "code",
        "colab": {}
      },
      "source": [
        "start = timeit.default_timer()\n",
        "temp_graph = copy.deepcopy(graph_test)\n",
        "F_max = 5\n",
        "num_of_groups=2\n",
        "result_components=[]\n",
        "for u,v,w in temp_graph.edges(data=True):\n",
        "      graph_test[u][v]['weight'] = np.random.randint(1,F_max+1)\n",
        "for iteration_num in range(2000):\n",
        "  print(\"Iteration: \"+str(iteration_num))\n",
        "  check_comp_num = True\n",
        "  while (check_comp_num):   \n",
        "    a,b = np.random.choice(graph_test.nodes,size=2)\n",
        "    resu_testing = dijkstra_TEST5(graph_test,a,b) #step 2, 3\n",
        "    if (resu_testing[1] == F_max): #step 5\n",
        "      list_of_max_weights=[]\n",
        "      for u,v,w in graph_test.edges(data=True):#step 5.1  удаление ребер с максимальной частотой  \n",
        "        if (w['weight'] == F_max):\n",
        "          temp_graph.remove_edge(u,v)\n",
        "          list_of_max_weights.append((u,v))\n",
        "      curr_gr = nx.algorithms.number_connected_components(temp_graph)\n",
        "      if (curr_gr == num_of_groups):\n",
        "        check_comp_num = False\n",
        "        graphs_list_test = list(nx.algorithms.connected_components(temp_graph))\n",
        "        print(len(graphs_list_test))\n",
        "        ans=[]\n",
        "        for t in range(len(graphs_list_test)):\n",
        "          ans.append(graphs_list_test[t])\n",
        "        result_components.append(ans) \n",
        "        for i in range(len(resu_testing[0])-1): #step 4\n",
        "          graph_test[resu_testing[0][i]][resu_testing[0][i+1]]['weight'] +=1  \n",
        "        F_max += 1\n",
        "      if (curr_gr > num_of_groups ):#step 5.2 - изучаем шо вышло\n",
        "        check_comp_num = False\n",
        "        raw_list = list(nx.algorithms.connected_components(temp_graph))\n",
        "        graphs_list_test = Sorting(raw_list)\n",
        "        print(len(graphs_list_test))\n",
        "        ans=[]\n",
        "        for j in range(num_of_groups-1):\n",
        "          ans.append(graphs_list_test[j])\n",
        "        last_gr=[]\n",
        "        for j in range(len(graphs_list_test)-num_of_groups+1):\n",
        "          for t in range(len(graphs_list_test[num_of_groups-1+j])):\n",
        "            last_gr.append(list(graphs_list_test[num_of_groups-1+j])[t])\n",
        "        ans.append(last_gr)\n",
        "        result_components.append(ans) \n",
        "        F_max += 1\n",
        "        for i in range(len(resu_testing[0])-1): #step 4\n",
        "          graph_test[resu_testing[0][i]][resu_testing[0][i+1]]['weight'] +=1\n",
        "      \n",
        "\n",
        "      for t,j in list_of_max_weights:\n",
        "        temp_graph.add_edge(t, j, weight=1)\n",
        "      \n",
        "    else:\n",
        "      for i in range(len(resu_testing[0])-1): #step 4\n",
        "        graph_test[resu_testing[0][i]][resu_testing[0][i+1]]['weight'] +=1\n",
        "\n",
        "stop = timeit.default_timer()\n",
        "\n",
        "print('Time: ', stop - start) \n"
      ],
      "execution_count": null,
      "outputs": []
    },
    {
      "cell_type": "code",
      "metadata": {
        "id": "bVLTqv0Gq2-v",
        "colab_type": "code",
        "colab": {
          "base_uri": "https://localhost:8080/",
          "height": 85
        },
        "outputId": "b9ca181f-577f-4e25-dd44-0157a6060513"
      },
      "source": [
        "unique_list=[]\n",
        "for t in range(len(result_components)):\n",
        "  if (result_components[t]) not in unique_list:\n",
        "    unique_list.append(result_components[t])\n",
        "unique_dec=[]\n",
        "for t in range(len(unique_list)):\n",
        "  dec_count=0\n",
        "  for j in range(len(result_components)):\n",
        "    if (result_components[j] == unique_list[t]):\n",
        "      dec_count += 1\n",
        "  unique_dec.append(dec_count)\n",
        "sum_part=0\n",
        "for t in range(len(unique_dec)):\n",
        "  sum_part -= (unique_dec[t]/2000)*math.log(unique_dec[t]/2000)\n",
        "print(sum_part/math.log(2000))\n",
        "print(len(unique_list)/2000)\n",
        "print(num_of_groups)\n",
        "print(file_loc)"
      ],
      "execution_count": null,
      "outputs": [
        {
          "output_type": "stream",
          "text": [
            "0.0021716705998685317\n",
            "0.002\n",
            "2\n",
            "/content/drive/My Drive/Eng/votes_of_9th_parlament(01-11-2019_31-12-2019).xlsx\n"
          ],
          "name": "stdout"
        }
      ]
    },
    {
      "cell_type": "code",
      "metadata": {
        "id": "LaZyx82W-dgP",
        "colab_type": "code",
        "colab": {}
      },
      "source": [
        "start = timeit.default_timer()\n",
        "temp_graph = copy.deepcopy(graph_test)\n",
        "F_max = 5\n",
        "num_of_groups=3\n",
        "result_components=[]\n",
        "for u,v,w in temp_graph.edges(data=True):\n",
        "      graph_test[u][v]['weight'] = np.random.randint(1,F_max+1)\n",
        "for iteration_num in range(2000):\n",
        "  print(\"Iteration: \"+str(iteration_num))\n",
        "  check_comp_num = True\n",
        "  while (check_comp_num):   \n",
        "    a,b = np.random.choice(graph_test.nodes,size=2)\n",
        "    resu_testing = dijkstra_TEST5(graph_test,a,b) #step 2, 3\n",
        "    if (resu_testing[1] == F_max): #step 5\n",
        "      list_of_max_weights=[]\n",
        "      for u,v,w in graph_test.edges(data=True):#step 5.1  удаление ребер с максимальной частотой  \n",
        "        if (w['weight'] == F_max):\n",
        "          temp_graph.remove_edge(u,v)\n",
        "          list_of_max_weights.append((u,v))\n",
        "      curr_gr = nx.algorithms.number_connected_components(temp_graph)\n",
        "      if (curr_gr == num_of_groups):\n",
        "        check_comp_num = False\n",
        "        graphs_list_test = list(nx.algorithms.connected_components(temp_graph))\n",
        "        print(len(graphs_list_test))\n",
        "        ans=[]\n",
        "        for t in range(len(graphs_list_test)):\n",
        "          ans.append(graphs_list_test[t])\n",
        "        result_components.append(ans) \n",
        "        for i in range(len(resu_testing[0])-1): #step 4\n",
        "          graph_test[resu_testing[0][i]][resu_testing[0][i+1]]['weight'] +=1  \n",
        "        F_max += 1\n",
        "      if (curr_gr > num_of_groups ):#step 5.2 - изучаем шо вышло\n",
        "        check_comp_num = False\n",
        "        raw_list = list(nx.algorithms.connected_components(temp_graph))\n",
        "        graphs_list_test = Sorting(raw_list)\n",
        "        print(len(graphs_list_test))\n",
        "        ans=[]\n",
        "        for j in range(num_of_groups-1):\n",
        "          ans.append(graphs_list_test[j])\n",
        "        last_gr=[]\n",
        "        for j in range(len(graphs_list_test)-num_of_groups+1):\n",
        "          for t in range(len(graphs_list_test[num_of_groups-1+j])):\n",
        "            last_gr.append(list(graphs_list_test[num_of_groups-1+j])[t])\n",
        "        ans.append(last_gr)\n",
        "        result_components.append(ans) \n",
        "        F_max += 1\n",
        "        for i in range(len(resu_testing[0])-1): #step 4\n",
        "          graph_test[resu_testing[0][i]][resu_testing[0][i+1]]['weight'] +=1\n",
        "      \n",
        "\n",
        "      for t,j in list_of_max_weights:\n",
        "        temp_graph.add_edge(t, j, weight=1)\n",
        "      \n",
        "    else:\n",
        "      for i in range(len(resu_testing[0])-1): #step 4\n",
        "        graph_test[resu_testing[0][i]][resu_testing[0][i+1]]['weight'] +=1\n",
        "\n",
        "stop = timeit.default_timer()\n",
        "\n",
        "print('Time: ', stop - start) "
      ],
      "execution_count": null,
      "outputs": []
    },
    {
      "cell_type": "code",
      "metadata": {
        "id": "0u3vwVJu-3oi",
        "colab_type": "code",
        "colab": {
          "base_uri": "https://localhost:8080/",
          "height": 85
        },
        "outputId": "dfaede15-9686-4b27-9e32-ed1a3c33e8a9"
      },
      "source": [
        "unique_list=[]\n",
        "for t in range(len(result_components)):\n",
        "  if (result_components[t]) not in unique_list:\n",
        "    unique_list.append(result_components[t])\n",
        "unique_dec=[]\n",
        "for t in range(len(unique_list)):\n",
        "  dec_count=0\n",
        "  for j in range(len(result_components)):\n",
        "    if (result_components[j] == unique_list[t]):\n",
        "      dec_count += 1\n",
        "  unique_dec.append(dec_count)\n",
        "sum_part=0\n",
        "for t in range(len(unique_dec)):\n",
        "  sum_part -= (unique_dec[t]/2000)*math.log(unique_dec[t]/2000)\n",
        "print(sum_part/math.log(2000))\n",
        "print(len(unique_list)/2000)\n",
        "print(num_of_groups)\n",
        "print(file_loc)"
      ],
      "execution_count": null,
      "outputs": [
        {
          "output_type": "stream",
          "text": [
            "0.17026070375368382\n",
            "0.005\n",
            "3\n",
            "/content/drive/My Drive/Eng/votes_of_9th_parlament(01-11-2019_31-12-2019).xlsx\n"
          ],
          "name": "stdout"
        }
      ]
    },
    {
      "cell_type": "code",
      "metadata": {
        "id": "m7Vv4kv2-5uC",
        "colab_type": "code",
        "colab": {}
      },
      "source": [
        "start = timeit.default_timer()\n",
        "temp_graph = copy.deepcopy(graph_test)\n",
        "F_max = 5\n",
        "num_of_groups=4\n",
        "result_components=[]\n",
        "for u,v,w in temp_graph.edges(data=True):\n",
        "      graph_test[u][v]['weight'] = np.random.randint(1,F_max+1)\n",
        "for iteration_num in range(2000):\n",
        "  print(\"Iteration: \"+str(iteration_num))\n",
        "  check_comp_num = True\n",
        "  while (check_comp_num):   \n",
        "    a,b = np.random.choice(graph_test.nodes,size=2)\n",
        "    resu_testing = dijkstra_TEST5(graph_test,a,b) #step 2, 3\n",
        "    if (resu_testing[1] == F_max): #step 5\n",
        "      list_of_max_weights=[]\n",
        "      for u,v,w in graph_test.edges(data=True):#step 5.1  удаление ребер с максимальной частотой  \n",
        "        if (w['weight'] == F_max):\n",
        "          temp_graph.remove_edge(u,v)\n",
        "          list_of_max_weights.append((u,v))\n",
        "      curr_gr = nx.algorithms.number_connected_components(temp_graph)\n",
        "      if (curr_gr == num_of_groups):\n",
        "        check_comp_num = False\n",
        "        graphs_list_test = list(nx.algorithms.connected_components(temp_graph))\n",
        "        print(len(graphs_list_test))\n",
        "        ans=[]\n",
        "        for t in range(len(graphs_list_test)):\n",
        "          ans.append(graphs_list_test[t])\n",
        "        result_components.append(ans) \n",
        "        for i in range(len(resu_testing[0])-1): #step 4\n",
        "          graph_test[resu_testing[0][i]][resu_testing[0][i+1]]['weight'] +=1  \n",
        "        F_max += 1\n",
        "      if (curr_gr > num_of_groups ):#step 5.2 - изучаем шо вышло\n",
        "        check_comp_num = False\n",
        "        raw_list = list(nx.algorithms.connected_components(temp_graph))\n",
        "        graphs_list_test = Sorting(raw_list)\n",
        "        print(len(graphs_list_test))\n",
        "        ans=[]\n",
        "        for j in range(num_of_groups-1):\n",
        "          ans.append(graphs_list_test[j])\n",
        "        last_gr=[]\n",
        "        for j in range(len(graphs_list_test)-num_of_groups+1):\n",
        "          for t in range(len(graphs_list_test[num_of_groups-1+j])):\n",
        "            last_gr.append(list(graphs_list_test[num_of_groups-1+j])[t])\n",
        "        ans.append(last_gr)\n",
        "        result_components.append(ans) \n",
        "        F_max += 1\n",
        "        for i in range(len(resu_testing[0])-1): #step 4\n",
        "          graph_test[resu_testing[0][i]][resu_testing[0][i+1]]['weight'] +=1\n",
        "      \n",
        "\n",
        "      for t,j in list_of_max_weights:\n",
        "        temp_graph.add_edge(t, j, weight=1)\n",
        "      \n",
        "    else:\n",
        "      for i in range(len(resu_testing[0])-1): #step 4\n",
        "        graph_test[resu_testing[0][i]][resu_testing[0][i+1]]['weight'] +=1\n",
        "\n",
        "stop = timeit.default_timer()\n",
        "\n",
        "print('Time: ', stop - start) "
      ],
      "execution_count": null,
      "outputs": []
    },
    {
      "cell_type": "code",
      "metadata": {
        "id": "A8vdQtLi-8xm",
        "colab_type": "code",
        "colab": {
          "base_uri": "https://localhost:8080/",
          "height": 85
        },
        "outputId": "1e294f3a-28a5-4090-fa5c-781fd04c6067"
      },
      "source": [
        "unique_list=[]\n",
        "for t in range(len(result_components)):\n",
        "  if (result_components[t]) not in unique_list:\n",
        "    unique_list.append(result_components[t])\n",
        "unique_dec=[]\n",
        "for t in range(len(unique_list)):\n",
        "  dec_count=0\n",
        "  for j in range(len(result_components)):\n",
        "    if (result_components[j] == unique_list[t]):\n",
        "      dec_count += 1\n",
        "  unique_dec.append(dec_count)\n",
        "sum_part=0\n",
        "for t in range(len(unique_dec)):\n",
        "  sum_part -= (unique_dec[t]/2000)*math.log(unique_dec[t]/2000)\n",
        "print(sum_part/math.log(2000))\n",
        "print(len(unique_list)/2000)\n",
        "print(num_of_groups)\n",
        "print(file_loc)"
      ],
      "execution_count": null,
      "outputs": [
        {
          "output_type": "stream",
          "text": [
            "0.39124309400525437\n",
            "0.029\n",
            "4\n",
            "/content/votes_.xlsx\n"
          ],
          "name": "stdout"
        }
      ]
    }
  ]
}